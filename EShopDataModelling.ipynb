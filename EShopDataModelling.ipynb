{
 "cells": [
  {
   "cell_type": "markdown",
   "metadata": {},
   "source": [
    "# E-shop data modelling"
   ]
  },
  {
   "cell_type": "code",
   "execution_count": 1,
   "metadata": {},
   "outputs": [],
   "source": [
    "import numpy as np\n",
    "import pandas as pd\n",
    "from scipy import stats\n",
    "import seaborn as sns\n",
    "import matplotlib.pyplot as plt\n",
    "from sklearn.linear_model import Ridge\n",
    "from sklearn.feature_selection import SelectKBest,chi2\n",
    "from sklearn.model_selection import KFold # import KFold\n",
    "from sklearn.model_selection import StratifiedKFold\n",
    "from sklearn.metrics import mean_squared_error,r2_score\n",
    "from math import sqrt\n",
    "import warnings\n",
    "warnings.filterwarnings('ignore')"
   ]
  },
  {
   "cell_type": "markdown",
   "metadata": {},
   "source": [
    "Read the _.csv_ file"
   ]
  },
  {
   "cell_type": "code",
   "execution_count": 2,
   "metadata": {},
   "outputs": [
    {
     "data": {
      "text/html": [
       "<div>\n",
       "<style scoped>\n",
       "    .dataframe tbody tr th:only-of-type {\n",
       "        vertical-align: middle;\n",
       "    }\n",
       "\n",
       "    .dataframe tbody tr th {\n",
       "        vertical-align: top;\n",
       "    }\n",
       "\n",
       "    .dataframe thead th {\n",
       "        text-align: right;\n",
       "    }\n",
       "</style>\n",
       "<table border=\"1\" class=\"dataframe\">\n",
       "  <thead>\n",
       "    <tr style=\"text-align: right;\">\n",
       "      <th></th>\n",
       "      <th>year</th>\n",
       "      <th>month</th>\n",
       "      <th>day</th>\n",
       "      <th>order</th>\n",
       "      <th>country</th>\n",
       "      <th>session ID</th>\n",
       "      <th>page 1 (main category)</th>\n",
       "      <th>page 2 (clothing model)</th>\n",
       "      <th>colour</th>\n",
       "      <th>location</th>\n",
       "      <th>model photography</th>\n",
       "      <th>price</th>\n",
       "      <th>price 2</th>\n",
       "      <th>page</th>\n",
       "    </tr>\n",
       "  </thead>\n",
       "  <tbody>\n",
       "    <tr>\n",
       "      <td>0</td>\n",
       "      <td>2008</td>\n",
       "      <td>4</td>\n",
       "      <td>1</td>\n",
       "      <td>1</td>\n",
       "      <td>29</td>\n",
       "      <td>1</td>\n",
       "      <td>1</td>\n",
       "      <td>A13</td>\n",
       "      <td>1</td>\n",
       "      <td>5</td>\n",
       "      <td>1</td>\n",
       "      <td>28</td>\n",
       "      <td>2</td>\n",
       "      <td>1</td>\n",
       "    </tr>\n",
       "    <tr>\n",
       "      <td>1</td>\n",
       "      <td>2008</td>\n",
       "      <td>4</td>\n",
       "      <td>1</td>\n",
       "      <td>2</td>\n",
       "      <td>29</td>\n",
       "      <td>1</td>\n",
       "      <td>1</td>\n",
       "      <td>A16</td>\n",
       "      <td>1</td>\n",
       "      <td>6</td>\n",
       "      <td>1</td>\n",
       "      <td>33</td>\n",
       "      <td>2</td>\n",
       "      <td>1</td>\n",
       "    </tr>\n",
       "    <tr>\n",
       "      <td>2</td>\n",
       "      <td>2008</td>\n",
       "      <td>4</td>\n",
       "      <td>1</td>\n",
       "      <td>3</td>\n",
       "      <td>29</td>\n",
       "      <td>1</td>\n",
       "      <td>2</td>\n",
       "      <td>B4</td>\n",
       "      <td>10</td>\n",
       "      <td>2</td>\n",
       "      <td>1</td>\n",
       "      <td>52</td>\n",
       "      <td>1</td>\n",
       "      <td>1</td>\n",
       "    </tr>\n",
       "    <tr>\n",
       "      <td>3</td>\n",
       "      <td>2008</td>\n",
       "      <td>4</td>\n",
       "      <td>1</td>\n",
       "      <td>4</td>\n",
       "      <td>29</td>\n",
       "      <td>1</td>\n",
       "      <td>2</td>\n",
       "      <td>B17</td>\n",
       "      <td>6</td>\n",
       "      <td>6</td>\n",
       "      <td>2</td>\n",
       "      <td>38</td>\n",
       "      <td>2</td>\n",
       "      <td>1</td>\n",
       "    </tr>\n",
       "    <tr>\n",
       "      <td>4</td>\n",
       "      <td>2008</td>\n",
       "      <td>4</td>\n",
       "      <td>1</td>\n",
       "      <td>5</td>\n",
       "      <td>29</td>\n",
       "      <td>1</td>\n",
       "      <td>2</td>\n",
       "      <td>B8</td>\n",
       "      <td>4</td>\n",
       "      <td>3</td>\n",
       "      <td>2</td>\n",
       "      <td>52</td>\n",
       "      <td>1</td>\n",
       "      <td>1</td>\n",
       "    </tr>\n",
       "  </tbody>\n",
       "</table>\n",
       "</div>"
      ],
      "text/plain": [
       "   year  month  day  order  country  session ID  page 1 (main category)  \\\n",
       "0  2008      4    1      1       29           1                       1   \n",
       "1  2008      4    1      2       29           1                       1   \n",
       "2  2008      4    1      3       29           1                       2   \n",
       "3  2008      4    1      4       29           1                       2   \n",
       "4  2008      4    1      5       29           1                       2   \n",
       "\n",
       "  page 2 (clothing model)  colour  location  model photography  price  \\\n",
       "0                     A13       1         5                  1     28   \n",
       "1                     A16       1         6                  1     33   \n",
       "2                      B4      10         2                  1     52   \n",
       "3                     B17       6         6                  2     38   \n",
       "4                      B8       4         3                  2     52   \n",
       "\n",
       "   price 2  page  \n",
       "0        2     1  \n",
       "1        2     1  \n",
       "2        1     1  \n",
       "3        2     1  \n",
       "4        1     1  "
      ]
     },
     "execution_count": 2,
     "metadata": {},
     "output_type": "execute_result"
    }
   ],
   "source": [
    "raw_data = pd.read_csv(\"e-shop clothing 2008.csv\", sep=\";\")\n",
    "raw_data.head()"
   ]
  },
  {
   "cell_type": "markdown",
   "metadata": {},
   "source": [
    "## Exploratory Data Analysis"
   ]
  },
  {
   "cell_type": "markdown",
   "metadata": {},
   "source": [
    "### On Price (Response variable)\n",
    "\n",
    "We start by counting how many null files the dataset contains while also looking at some general statistics regarding the response variable _price_."
   ]
  },
  {
   "cell_type": "code",
   "execution_count": 3,
   "metadata": {},
   "outputs": [
    {
     "name": "stdout",
     "output_type": "stream",
     "text": [
      "Number of nulls within the data:  0\n",
      "Statistics regarding the price, the response variable: \n",
      "\n",
      "count    165474.000000\n",
      "mean         43.802507\n",
      "std          12.548131\n",
      "min          18.000000\n",
      "25%          33.000000\n",
      "50%          43.000000\n",
      "75%          52.000000\n",
      "max          82.000000\n",
      "Name: price, dtype: float64\n",
      "\n",
      "\n",
      "How many entries have price within 2 standard deviations to the mean:\n",
      "4319\n",
      "2.610077716136674 % of the data\n",
      "\n",
      "How many entries have price within 3 standard deviations to the mean:\n",
      "1923\n",
      "1.1621161028318647 % of the data\n"
     ]
    },
    {
     "data": {
      "text/plain": [
       "array([2008], dtype=int64)"
      ]
     },
     "execution_count": 3,
     "metadata": {},
     "output_type": "execute_result"
    }
   ],
   "source": [
    "print(\"Number of nulls within the data: \", raw_data.isnull().values.sum())\n",
    "print(\"Statistics regarding the price, the response variable: \")\n",
    "print('')\n",
    "print(raw_data.price.describe())\n",
    "print('')\n",
    "within2std = raw_data[raw_data['price']>43.802507+(2*12.548131)].shape[0]\n",
    "within2std = within2std + raw_data[raw_data['price']<43.802507-(2*12.548131)].shape[0]\n",
    "\n",
    "within3std = raw_data[raw_data['price']>43.802507+(3*12.548131)].shape[0]\n",
    "within3std + within3std + raw_data[raw_data['price']<43.802507-(3*12.548131)].shape[0]\n",
    "\n",
    "print('')\n",
    "print('How many entries have price within 2 standard deviations to the mean:')\n",
    "print(within2std)\n",
    "print(within2std/raw_data.shape[0] * 100, '% of the data')\n",
    "print('')\n",
    "\n",
    "print('How many entries have price within 3 standard deviations to the mean:')\n",
    "print(within3std)\n",
    "print(within3std/raw_data.shape[0] * 100, '% of the data')\n",
    "raw_data['year'].unique()"
   ]
  },
  {
   "cell_type": "markdown",
   "metadata": {},
   "source": [
    "Looking at the distribution of price. According to the plot, the variable seems categorical. However, this should not be the case with price. There is no indication that future products will be within the given price values and thus we should consider a continuous case."
   ]
  },
  {
   "cell_type": "code",
   "execution_count": 4,
   "metadata": {},
   "outputs": [
    {
     "name": "stdout",
     "output_type": "stream",
     "text": [
      "[28 33 52 38 57 48 67 43 62 26 20 72 50 18 82 23 65 60 77 55]\n"
     ]
    },
    {
     "data": {
      "image/png": "[encoded data removed]",
      "text/plain": [
       "<Figure size 432x288 with 1 Axes>"
      ]
     },
     "metadata": {
      "needs_background": "light"
     },
     "output_type": "display_data"
    }
   ],
   "source": [
    "ax = sns.distplot(raw_data.price)\n",
    "ax.set_title('Distribution of Price')\n",
    "ax.set_ylabel('Probability')\n",
    "print(raw_data.price.unique())"
   ]
  },
  {
   "cell_type": "markdown",
   "metadata": {},
   "source": [
    "### On Features\n",
    "Our aim is to build a predictor that predicts the price of the model. According to the description file, the variable 'page 2 (clothing model)' identifies the product and thus we can consider it as the key of what we want to predict. However, to avoid false assumption we will count how many distinct products there are for a given model.\n",
    "\n",
    "In order to do this, we fetch only the columns that define a product from the dataset while we omit columns that deal purely with the purchase. The columns used are: _page 1 (main category), colour, location, model photography, price, page_. (Price 2 is redundant since we know price)."
   ]
  },
  {
   "cell_type": "code",
   "execution_count": 5,
   "metadata": {},
   "outputs": [
    {
     "name": "stdout",
     "output_type": "stream",
     "text": [
      "The model A18 represents multiple products.\n"
     ]
    }
   ],
   "source": [
    "rr = raw_data[['page 1 (main category)', 'colour', 'location', 'model photography', 'price', 'page', 'page 2 (clothing model)']]\n",
    "group = rr.groupby(['page 2 (clothing model)'])\n",
    "for i in group.groups.keys():\n",
    "    gp = group.get_group(i)\n",
    "    if gp.drop_duplicates().shape[0] > 1:\n",
    "        print('The model',i, 'represents multiple products.')\n"
   ]
  },
  {
   "cell_type": "code",
   "execution_count": 6,
   "metadata": {},
   "outputs": [
    {
     "name": "stdout",
     "output_type": "stream",
     "text": [
      "Duplicate instances given A18\n",
      "\n",
      "Color: 1\n",
      "Location: 1\n",
      "Price: 1\n",
      "Model Photography: 1\n",
      "Page: 1\n",
      "Page1 (main category): 2\n"
     ]
    }
   ],
   "source": [
    "print('Duplicate instances given A18')\n",
    "print('')\n",
    "print('Color:',group.get_group('A18').colour.unique().shape[0])\n",
    "print('Location:',group.get_group('A18').location.unique().shape[0])\n",
    "print('Price:',group.get_group('A18').price.unique().shape[0])\n",
    "print('Model Photography:',group.get_group('A18')['model photography'].unique().shape[0])\n",
    "print('Page:',group.get_group('A18').page.unique().shape[0])\n",
    "print('Page1 (main category):',group.get_group('A18')['page 1 (main category)'].unique().shape[0])"
   ]
  },
  {
   "cell_type": "code",
   "execution_count": 7,
   "metadata": {},
   "outputs": [
    {
     "name": "stdout",
     "output_type": "stream",
     "text": [
      "937\n",
      "1\n"
     ]
    }
   ],
   "source": [
    "group = rr.groupby(['page 2 (clothing model)', 'page 1 (main category)'])\n",
    "print(group.get_group(('A18',1)).shape[0])\n",
    "print(group.get_group(('A18',2)).shape[0])"
   ]
  },
  {
   "cell_type": "markdown",
   "metadata": {},
   "source": [
    "There is only a single instance of the duplicated model code. Thus, we remove it on data cleaning."
   ]
  },
  {
   "cell_type": "markdown",
   "metadata": {},
   "source": [
    "### Correlation\n",
    "\n",
    "The dataset contains both categorical and ordinal data. <br>\n",
    "**Ordinal:** Day, Month, Order, Session ID, location, page. <br> \n",
    "**Categorical:** Country, Page 1 (main category), Page 2 (clothing model), colour, model photography. <br> <br>\n",
    "\n",
    "Note that some data such as day and month may seem unrelated with the product itself but it is worth exploring them before discarding. For instance, customers may prefer to buy expensive products at the beginning of the month when they get paid or some products are related with a specific month of the calendar."
   ]
  },
  {
   "cell_type": "code",
   "execution_count": 8,
   "metadata": {},
   "outputs": [
    {
     "data": {
      "text/plain": [
       "Text(0.5, 1.0, 'Spearman correlation between ordinal features and price.')"
      ]
     },
     "execution_count": 8,
     "metadata": {},
     "output_type": "execute_result"
    },
    {
     "data": {
      "image/png": "[encoded data removed]",
      "text/plain": [
       "<Figure size 720x432 with 2 Axes>"
      ]
     },
     "metadata": {
      "needs_background": "light"
     },
     "output_type": "display_data"
    }
   ],
   "source": [
    "raw_data_ordinal = raw_data[['day','month', 'year','order', 'session ID', 'location', 'page','price']]\n",
    "fig, ax = plt.subplots(figsize=(10,6))\n",
    "ax = sns.heatmap(raw_data_ordinal.corr('spearman')[['price']].sort_values('price').head(20),\n",
    " vmax=1, vmin=-1, cmap='Blues', annot=True, ax=ax);\n",
    "ax.set_title('Spearman correlation between ordinal features and price.')"
   ]
  },
  {
   "cell_type": "markdown",
   "metadata": {},
   "source": [
    "Year is not tagged. Explore further:"
   ]
  },
  {
   "cell_type": "code",
   "execution_count": 9,
   "metadata": {},
   "outputs": [
    {
     "data": {
      "text/plain": [
       "array([2008], dtype=int64)"
      ]
     },
     "execution_count": 9,
     "metadata": {},
     "output_type": "execute_result"
    }
   ],
   "source": [
    "raw_data.year.unique()"
   ]
  },
  {
   "cell_type": "markdown",
   "metadata": {},
   "source": [
    "There is only a single year recorded. It does not affect prediction thus we can drop it."
   ]
  },
  {
   "cell_type": "code",
   "execution_count": 10,
   "metadata": {},
   "outputs": [
    {
     "data": {
      "text/plain": [
       "Text(0.5, 1.0, 'Correlations between features.')"
      ]
     },
     "execution_count": 10,
     "metadata": {},
     "output_type": "execute_result"
    },
    {
     "data": {
      "image/png": "[encoded data removed]",
      "text/plain": [
       "<Figure size 720x432 with 2 Axes>"
      ]
     },
     "metadata": {
      "needs_background": "light"
     },
     "output_type": "display_data"
    }
   ],
   "source": [
    "raw_data_ordinal = raw_data_ordinal.drop(columns=['year'])\n",
    "corr = raw_data_ordinal.corr('spearman')\n",
    "mask = np.triu(np.ones_like(corr, dtype=bool))\n",
    "fig, ax = plt.subplots(figsize=(10,6))\n",
    "cmap = sns.diverging_palette(230, 20, as_cmap=True)\n",
    "ax = sns.heatmap(corr, mask = mask, cmap=cmap,\n",
    " vmax=1, vmin=-1,  annot=True, ax=ax);\n",
    "ax.set_title('Correlations between features.')"
   ]
  },
  {
   "cell_type": "markdown",
   "metadata": {},
   "source": [
    "The above indicates that there is low relation between price and the ordinal values. We will discard _day, session ID and month_ since these three scored the lowest absolute score. <br>\n",
    "<br>\n",
    "High correlation between _month_ and _session ID_ which is expected since the data recorded is of a single year. There is some relation between page and order which is again expected, pages other than the main page require clicks."
   ]
  },
  {
   "cell_type": "markdown",
   "metadata": {},
   "source": [
    "**Further statistics of _page_ which scored the highest correlation with price:**"
   ]
  },
  {
   "cell_type": "code",
   "execution_count": 11,
   "metadata": {},
   "outputs": [
    {
     "name": "stdout",
     "output_type": "stream",
     "text": [
      "Different value that page can take:\n",
      "[1 4 5 2 3]\n",
      "Size of each group:\n",
      "1 93452\n",
      "2 41037\n",
      "3 19301\n",
      "4 8861\n",
      "5 2823\n"
     ]
    },
    {
     "data": {
      "image/png": "[encoded data removed]",
      "text/plain": [
       "<Figure size 432x288 with 1 Axes>"
      ]
     },
     "metadata": {
      "needs_background": "light"
     },
     "output_type": "display_data"
    }
   ],
   "source": [
    "print(\"Different value that page can take:\")\n",
    "print(raw_data['page'].unique())\n",
    "ax=sns.boxplot(x ='page 1 (main category)', y ='price', data = raw_data)\n",
    "ax.set_title('Boxplot of price divided by the different page groups.')\n",
    "\n",
    "gb = raw_data.groupby(['page'])\n",
    "print('Size of each group:')\n",
    "for i in gb.groups.keys():\n",
    "    cg=gb.get_group(i)\n",
    "    print(i,cg.shape[0])\n"
   ]
  },
  {
   "cell_type": "markdown",
   "metadata": {},
   "source": [
    "Overall, products bought from the second page are more expensive. In the same page, it is to find products of the same price range. The reason for this may be that in page 2 there are the most products and the whole collection is reflected more. \n",
    "\n",
    "In contrast, page 4 offers a smaller variety and there are a few clothes which are more expensive compared to the rest within the page."
   ]
  },
  {
   "cell_type": "markdown",
   "metadata": {},
   "source": [
    "### Categories\n",
    "\n",
    "Again some variables such as countries might not make sense but we cannot disregard them with no proof. People from a specific country might have a more expensive taste. <br>\n",
    "We will create dummy variables for each categorical data we find to be valuable for our model.\n",
    "<br>\n",
    "As a first step, we will calculate the standard deviation of every value in the category with respect to price."
   ]
  },
  {
   "cell_type": "code",
   "execution_count": 12,
   "metadata": {},
   "outputs": [
    {
     "name": "stdout",
     "output_type": "stream",
     "text": [
      "67\n"
     ]
    },
    {
     "data": {
      "text/html": [
       "<div>\n",
       "<style scoped>\n",
       "    .dataframe tbody tr th:only-of-type {\n",
       "        vertical-align: middle;\n",
       "    }\n",
       "\n",
       "    .dataframe tbody tr th {\n",
       "        vertical-align: top;\n",
       "    }\n",
       "\n",
       "    .dataframe thead th {\n",
       "        text-align: right;\n",
       "    }\n",
       "</style>\n",
       "<table border=\"1\" class=\"dataframe\">\n",
       "  <thead>\n",
       "    <tr style=\"text-align: right;\">\n",
       "      <th></th>\n",
       "      <th>category</th>\n",
       "      <th>value</th>\n",
       "      <th>std</th>\n",
       "      <th>len</th>\n",
       "    </tr>\n",
       "  </thead>\n",
       "  <tbody>\n",
       "    <tr>\n",
       "      <td>1</td>\n",
       "      <td>country</td>\n",
       "      <td>2</td>\n",
       "      <td>12.552008</td>\n",
       "      <td>58</td>\n",
       "    </tr>\n",
       "    <tr>\n",
       "      <td>65</td>\n",
       "      <td>model photography</td>\n",
       "      <td>1</td>\n",
       "      <td>12.563742</td>\n",
       "      <td>122439</td>\n",
       "    </tr>\n",
       "    <tr>\n",
       "      <td>45</td>\n",
       "      <td>country</td>\n",
       "      <td>46</td>\n",
       "      <td>12.566225</td>\n",
       "      <td>2522</td>\n",
       "    </tr>\n",
       "    <tr>\n",
       "      <td>13</td>\n",
       "      <td>country</td>\n",
       "      <td>14</td>\n",
       "      <td>12.675379</td>\n",
       "      <td>43</td>\n",
       "    </tr>\n",
       "    <tr>\n",
       "      <td>23</td>\n",
       "      <td>country</td>\n",
       "      <td>24</td>\n",
       "      <td>12.784374</td>\n",
       "      <td>4091</td>\n",
       "    </tr>\n",
       "    <tr>\n",
       "      <td>14</td>\n",
       "      <td>country</td>\n",
       "      <td>15</td>\n",
       "      <td>12.896620</td>\n",
       "      <td>125</td>\n",
       "    </tr>\n",
       "    <tr>\n",
       "      <td>26</td>\n",
       "      <td>country</td>\n",
       "      <td>27</td>\n",
       "      <td>12.968383</td>\n",
       "      <td>227</td>\n",
       "    </tr>\n",
       "    <tr>\n",
       "      <td>4</td>\n",
       "      <td>country</td>\n",
       "      <td>5</td>\n",
       "      <td>13.009612</td>\n",
       "      <td>4</td>\n",
       "    </tr>\n",
       "    <tr>\n",
       "      <td>43</td>\n",
       "      <td>country</td>\n",
       "      <td>44</td>\n",
       "      <td>13.026954</td>\n",
       "      <td>1385</td>\n",
       "    </tr>\n",
       "    <tr>\n",
       "      <td>15</td>\n",
       "      <td>country</td>\n",
       "      <td>16</td>\n",
       "      <td>13.069510</td>\n",
       "      <td>834</td>\n",
       "    </tr>\n",
       "    <tr>\n",
       "      <td>38</td>\n",
       "      <td>country</td>\n",
       "      <td>39</td>\n",
       "      <td>13.150217</td>\n",
       "      <td>34</td>\n",
       "    </tr>\n",
       "    <tr>\n",
       "      <td>11</td>\n",
       "      <td>country</td>\n",
       "      <td>12</td>\n",
       "      <td>13.190545</td>\n",
       "      <td>210</td>\n",
       "    </tr>\n",
       "    <tr>\n",
       "      <td>8</td>\n",
       "      <td>country</td>\n",
       "      <td>9</td>\n",
       "      <td>13.314213</td>\n",
       "      <td>18003</td>\n",
       "    </tr>\n",
       "    <tr>\n",
       "      <td>21</td>\n",
       "      <td>country</td>\n",
       "      <td>22</td>\n",
       "      <td>13.319175</td>\n",
       "      <td>144</td>\n",
       "    </tr>\n",
       "    <tr>\n",
       "      <td>37</td>\n",
       "      <td>country</td>\n",
       "      <td>38</td>\n",
       "      <td>13.432942</td>\n",
       "      <td>137</td>\n",
       "    </tr>\n",
       "    <tr>\n",
       "      <td>19</td>\n",
       "      <td>country</td>\n",
       "      <td>20</td>\n",
       "      <td>13.483694</td>\n",
       "      <td>10</td>\n",
       "    </tr>\n",
       "    <tr>\n",
       "      <td>47</td>\n",
       "      <td>page 1 (main category)</td>\n",
       "      <td>1</td>\n",
       "      <td>14.310286</td>\n",
       "      <td>49742</td>\n",
       "    </tr>\n",
       "    <tr>\n",
       "      <td>9</td>\n",
       "      <td>country</td>\n",
       "      <td>10</td>\n",
       "      <td>14.438924</td>\n",
       "      <td>152</td>\n",
       "    </tr>\n",
       "    <tr>\n",
       "      <td>53</td>\n",
       "      <td>colour</td>\n",
       "      <td>3</td>\n",
       "      <td>14.635321</td>\n",
       "      <td>29259</td>\n",
       "    </tr>\n",
       "    <tr>\n",
       "      <td>22</td>\n",
       "      <td>country</td>\n",
       "      <td>23</td>\n",
       "      <td>17.292655</td>\n",
       "      <td>46</td>\n",
       "    </tr>\n",
       "  </tbody>\n",
       "</table>\n",
       "</div>"
      ],
      "text/plain": [
       "                  category value        std     len\n",
       "1                  country     2  12.552008      58\n",
       "65       model photography     1  12.563742  122439\n",
       "45                 country    46  12.566225    2522\n",
       "13                 country    14  12.675379      43\n",
       "23                 country    24  12.784374    4091\n",
       "14                 country    15  12.896620     125\n",
       "26                 country    27  12.968383     227\n",
       "4                  country     5  13.009612       4\n",
       "43                 country    44  13.026954    1385\n",
       "15                 country    16  13.069510     834\n",
       "38                 country    39  13.150217      34\n",
       "11                 country    12  13.190545     210\n",
       "8                  country     9  13.314213   18003\n",
       "21                 country    22  13.319175     144\n",
       "37                 country    38  13.432942     137\n",
       "19                 country    20  13.483694      10\n",
       "47  page 1 (main category)     1  14.310286   49742\n",
       "9                  country    10  14.438924     152\n",
       "53                  colour     3  14.635321   29259\n",
       "22                 country    23  17.292655      46"
      ]
     },
     "execution_count": 12,
     "metadata": {},
     "output_type": "execute_result"
    }
   ],
   "source": [
    "categories = ['country', 'page 1 (main category)', 'colour', 'model photography']\n",
    "\n",
    "subgroups_var = pd.DataFrame(columns = ['category','value','std','len'])\n",
    "for i in categories:\n",
    "    group = raw_data.groupby(i)\n",
    "\n",
    "    for j in group.groups.keys():\n",
    "        subgroups_var = subgroups_var.append({'category' : i, 'value' : j, 'std' : np.std(group.get_group(j).price), 'len' : group.get_group(j).shape[0]}, \n",
    "               ignore_index = True) \n",
    "print(subgroups_var.shape[0])\n",
    "subgroups_var.sort_values(['std'], ascending = 1).tail(20)\n"
   ]
  },
  {
   "cell_type": "markdown",
   "metadata": {},
   "source": [
    "Certain values achieve high standard deviation, even higher than the standard deviation of the dataset. However, there are only 67 values for all categories. Replacing the above categories with 67 dummy variables is withing our processing power. "
   ]
  },
  {
   "cell_type": "markdown",
   "metadata": {},
   "source": [
    "## Dataset preparation"
   ]
  },
  {
   "cell_type": "markdown",
   "metadata": {},
   "source": [
    "No nulls found. No strings to deal with spaces, lower case, punctuation etc. No outliers, max value for price is just 82. Only thing to do: Remove the extra value of the A18 clothing model. "
   ]
  },
  {
   "cell_type": "code",
   "execution_count": 13,
   "metadata": {},
   "outputs": [],
   "source": [
    "raw_data = raw_data.drop(raw_data[(raw_data['page 2 (clothing model)'] == 'A18') & (raw_data['page 1 (main category)'] == 2)].index)\n",
    "#raw_data = raw_data.reset_index()"
   ]
  },
  {
   "cell_type": "markdown",
   "metadata": {},
   "source": [
    "### Convert categorical data dummy variables "
   ]
  },
  {
   "cell_type": "markdown",
   "metadata": {},
   "source": [
    "Remove year, month, day and session ID as discussed. Also remove page 2 (clothing model) and price 2 since these two are directly related to the response variable"
   ]
  },
  {
   "cell_type": "code",
   "execution_count": 14,
   "metadata": {},
   "outputs": [],
   "source": [
    "input_data = pd.get_dummies(raw_data, columns=['page 1 (main category)', 'colour', 'model photography','country'])\n",
    "input_data = input_data.drop(columns = ['year', 'month', 'day', 'session ID', 'price 2', 'page 2 (clothing model)'])"
   ]
  },
  {
   "cell_type": "code",
   "execution_count": 15,
   "metadata": {},
   "outputs": [
    {
     "data": {
      "text/html": [
       "<div>\n",
       "<style scoped>\n",
       "    .dataframe tbody tr th:only-of-type {\n",
       "        vertical-align: middle;\n",
       "    }\n",
       "\n",
       "    .dataframe tbody tr th {\n",
       "        vertical-align: top;\n",
       "    }\n",
       "\n",
       "    .dataframe thead th {\n",
       "        text-align: right;\n",
       "    }\n",
       "</style>\n",
       "<table border=\"1\" class=\"dataframe\">\n",
       "  <thead>\n",
       "    <tr style=\"text-align: right;\">\n",
       "      <th></th>\n",
       "      <th>order</th>\n",
       "      <th>location</th>\n",
       "      <th>price</th>\n",
       "      <th>page</th>\n",
       "      <th>page 1 (main category)_1</th>\n",
       "      <th>page 1 (main category)_2</th>\n",
       "      <th>page 1 (main category)_3</th>\n",
       "      <th>page 1 (main category)_4</th>\n",
       "      <th>colour_1</th>\n",
       "      <th>colour_2</th>\n",
       "      <th>...</th>\n",
       "      <th>country_38</th>\n",
       "      <th>country_39</th>\n",
       "      <th>country_40</th>\n",
       "      <th>country_41</th>\n",
       "      <th>country_42</th>\n",
       "      <th>country_43</th>\n",
       "      <th>country_44</th>\n",
       "      <th>country_45</th>\n",
       "      <th>country_46</th>\n",
       "      <th>country_47</th>\n",
       "    </tr>\n",
       "  </thead>\n",
       "  <tbody>\n",
       "    <tr>\n",
       "      <td>0</td>\n",
       "      <td>1</td>\n",
       "      <td>5</td>\n",
       "      <td>28</td>\n",
       "      <td>1</td>\n",
       "      <td>1</td>\n",
       "      <td>0</td>\n",
       "      <td>0</td>\n",
       "      <td>0</td>\n",
       "      <td>1</td>\n",
       "      <td>0</td>\n",
       "      <td>...</td>\n",
       "      <td>0</td>\n",
       "      <td>0</td>\n",
       "      <td>0</td>\n",
       "      <td>0</td>\n",
       "      <td>0</td>\n",
       "      <td>0</td>\n",
       "      <td>0</td>\n",
       "      <td>0</td>\n",
       "      <td>0</td>\n",
       "      <td>0</td>\n",
       "    </tr>\n",
       "    <tr>\n",
       "      <td>1</td>\n",
       "      <td>2</td>\n",
       "      <td>6</td>\n",
       "      <td>33</td>\n",
       "      <td>1</td>\n",
       "      <td>1</td>\n",
       "      <td>0</td>\n",
       "      <td>0</td>\n",
       "      <td>0</td>\n",
       "      <td>1</td>\n",
       "      <td>0</td>\n",
       "      <td>...</td>\n",
       "      <td>0</td>\n",
       "      <td>0</td>\n",
       "      <td>0</td>\n",
       "      <td>0</td>\n",
       "      <td>0</td>\n",
       "      <td>0</td>\n",
       "      <td>0</td>\n",
       "      <td>0</td>\n",
       "      <td>0</td>\n",
       "      <td>0</td>\n",
       "    </tr>\n",
       "    <tr>\n",
       "      <td>2</td>\n",
       "      <td>3</td>\n",
       "      <td>2</td>\n",
       "      <td>52</td>\n",
       "      <td>1</td>\n",
       "      <td>0</td>\n",
       "      <td>1</td>\n",
       "      <td>0</td>\n",
       "      <td>0</td>\n",
       "      <td>0</td>\n",
       "      <td>0</td>\n",
       "      <td>...</td>\n",
       "      <td>0</td>\n",
       "      <td>0</td>\n",
       "      <td>0</td>\n",
       "      <td>0</td>\n",
       "      <td>0</td>\n",
       "      <td>0</td>\n",
       "      <td>0</td>\n",
       "      <td>0</td>\n",
       "      <td>0</td>\n",
       "      <td>0</td>\n",
       "    </tr>\n",
       "    <tr>\n",
       "      <td>3</td>\n",
       "      <td>4</td>\n",
       "      <td>6</td>\n",
       "      <td>38</td>\n",
       "      <td>1</td>\n",
       "      <td>0</td>\n",
       "      <td>1</td>\n",
       "      <td>0</td>\n",
       "      <td>0</td>\n",
       "      <td>0</td>\n",
       "      <td>0</td>\n",
       "      <td>...</td>\n",
       "      <td>0</td>\n",
       "      <td>0</td>\n",
       "      <td>0</td>\n",
       "      <td>0</td>\n",
       "      <td>0</td>\n",
       "      <td>0</td>\n",
       "      <td>0</td>\n",
       "      <td>0</td>\n",
       "      <td>0</td>\n",
       "      <td>0</td>\n",
       "    </tr>\n",
       "    <tr>\n",
       "      <td>4</td>\n",
       "      <td>5</td>\n",
       "      <td>3</td>\n",
       "      <td>52</td>\n",
       "      <td>1</td>\n",
       "      <td>0</td>\n",
       "      <td>1</td>\n",
       "      <td>0</td>\n",
       "      <td>0</td>\n",
       "      <td>0</td>\n",
       "      <td>0</td>\n",
       "      <td>...</td>\n",
       "      <td>0</td>\n",
       "      <td>0</td>\n",
       "      <td>0</td>\n",
       "      <td>0</td>\n",
       "      <td>0</td>\n",
       "      <td>0</td>\n",
       "      <td>0</td>\n",
       "      <td>0</td>\n",
       "      <td>0</td>\n",
       "      <td>0</td>\n",
       "    </tr>\n",
       "    <tr>\n",
       "      <td>...</td>\n",
       "      <td>...</td>\n",
       "      <td>...</td>\n",
       "      <td>...</td>\n",
       "      <td>...</td>\n",
       "      <td>...</td>\n",
       "      <td>...</td>\n",
       "      <td>...</td>\n",
       "      <td>...</td>\n",
       "      <td>...</td>\n",
       "      <td>...</td>\n",
       "      <td>...</td>\n",
       "      <td>...</td>\n",
       "      <td>...</td>\n",
       "      <td>...</td>\n",
       "      <td>...</td>\n",
       "      <td>...</td>\n",
       "      <td>...</td>\n",
       "      <td>...</td>\n",
       "      <td>...</td>\n",
       "      <td>...</td>\n",
       "      <td>...</td>\n",
       "    </tr>\n",
       "    <tr>\n",
       "      <td>165469</td>\n",
       "      <td>1</td>\n",
       "      <td>4</td>\n",
       "      <td>67</td>\n",
       "      <td>1</td>\n",
       "      <td>0</td>\n",
       "      <td>1</td>\n",
       "      <td>0</td>\n",
       "      <td>0</td>\n",
       "      <td>0</td>\n",
       "      <td>1</td>\n",
       "      <td>...</td>\n",
       "      <td>0</td>\n",
       "      <td>0</td>\n",
       "      <td>0</td>\n",
       "      <td>0</td>\n",
       "      <td>0</td>\n",
       "      <td>0</td>\n",
       "      <td>0</td>\n",
       "      <td>0</td>\n",
       "      <td>0</td>\n",
       "      <td>0</td>\n",
       "    </tr>\n",
       "    <tr>\n",
       "      <td>165470</td>\n",
       "      <td>1</td>\n",
       "      <td>4</td>\n",
       "      <td>62</td>\n",
       "      <td>1</td>\n",
       "      <td>1</td>\n",
       "      <td>0</td>\n",
       "      <td>0</td>\n",
       "      <td>0</td>\n",
       "      <td>0</td>\n",
       "      <td>0</td>\n",
       "      <td>...</td>\n",
       "      <td>0</td>\n",
       "      <td>0</td>\n",
       "      <td>0</td>\n",
       "      <td>0</td>\n",
       "      <td>0</td>\n",
       "      <td>0</td>\n",
       "      <td>0</td>\n",
       "      <td>0</td>\n",
       "      <td>0</td>\n",
       "      <td>0</td>\n",
       "    </tr>\n",
       "    <tr>\n",
       "      <td>165471</td>\n",
       "      <td>1</td>\n",
       "      <td>1</td>\n",
       "      <td>43</td>\n",
       "      <td>1</td>\n",
       "      <td>1</td>\n",
       "      <td>0</td>\n",
       "      <td>0</td>\n",
       "      <td>0</td>\n",
       "      <td>0</td>\n",
       "      <td>0</td>\n",
       "      <td>...</td>\n",
       "      <td>0</td>\n",
       "      <td>0</td>\n",
       "      <td>0</td>\n",
       "      <td>0</td>\n",
       "      <td>0</td>\n",
       "      <td>0</td>\n",
       "      <td>0</td>\n",
       "      <td>0</td>\n",
       "      <td>0</td>\n",
       "      <td>0</td>\n",
       "    </tr>\n",
       "    <tr>\n",
       "      <td>165472</td>\n",
       "      <td>2</td>\n",
       "      <td>1</td>\n",
       "      <td>43</td>\n",
       "      <td>1</td>\n",
       "      <td>0</td>\n",
       "      <td>0</td>\n",
       "      <td>1</td>\n",
       "      <td>0</td>\n",
       "      <td>0</td>\n",
       "      <td>0</td>\n",
       "      <td>...</td>\n",
       "      <td>0</td>\n",
       "      <td>0</td>\n",
       "      <td>0</td>\n",
       "      <td>0</td>\n",
       "      <td>0</td>\n",
       "      <td>0</td>\n",
       "      <td>0</td>\n",
       "      <td>0</td>\n",
       "      <td>0</td>\n",
       "      <td>0</td>\n",
       "    </tr>\n",
       "    <tr>\n",
       "      <td>165473</td>\n",
       "      <td>3</td>\n",
       "      <td>1</td>\n",
       "      <td>57</td>\n",
       "      <td>1</td>\n",
       "      <td>0</td>\n",
       "      <td>1</td>\n",
       "      <td>0</td>\n",
       "      <td>0</td>\n",
       "      <td>0</td>\n",
       "      <td>0</td>\n",
       "      <td>...</td>\n",
       "      <td>0</td>\n",
       "      <td>0</td>\n",
       "      <td>0</td>\n",
       "      <td>0</td>\n",
       "      <td>0</td>\n",
       "      <td>0</td>\n",
       "      <td>0</td>\n",
       "      <td>0</td>\n",
       "      <td>0</td>\n",
       "      <td>0</td>\n",
       "    </tr>\n",
       "  </tbody>\n",
       "</table>\n",
       "<p>165473 rows × 71 columns</p>\n",
       "</div>"
      ],
      "text/plain": [
       "        order  location  price  page  page 1 (main category)_1  \\\n",
       "0           1         5     28     1                         1   \n",
       "1           2         6     33     1                         1   \n",
       "2           3         2     52     1                         0   \n",
       "3           4         6     38     1                         0   \n",
       "4           5         3     52     1                         0   \n",
       "...       ...       ...    ...   ...                       ...   \n",
       "165469      1         4     67     1                         0   \n",
       "165470      1         4     62     1                         1   \n",
       "165471      1         1     43     1                         1   \n",
       "165472      2         1     43     1                         0   \n",
       "165473      3         1     57     1                         0   \n",
       "\n",
       "        page 1 (main category)_2  page 1 (main category)_3  \\\n",
       "0                              0                         0   \n",
       "1                              0                         0   \n",
       "2                              1                         0   \n",
       "3                              1                         0   \n",
       "4                              1                         0   \n",
       "...                          ...                       ...   \n",
       "165469                         1                         0   \n",
       "165470                         0                         0   \n",
       "165471                         0                         0   \n",
       "165472                         0                         1   \n",
       "165473                         1                         0   \n",
       "\n",
       "        page 1 (main category)_4  colour_1  colour_2  ...  country_38  \\\n",
       "0                              0         1         0  ...           0   \n",
       "1                              0         1         0  ...           0   \n",
       "2                              0         0         0  ...           0   \n",
       "3                              0         0         0  ...           0   \n",
       "4                              0         0         0  ...           0   \n",
       "...                          ...       ...       ...  ...         ...   \n",
       "165469                         0         0         1  ...           0   \n",
       "165470                         0         0         0  ...           0   \n",
       "165471                         0         0         0  ...           0   \n",
       "165472                         0         0         0  ...           0   \n",
       "165473                         0         0         0  ...           0   \n",
       "\n",
       "        country_39  country_40  country_41  country_42  country_43  \\\n",
       "0                0           0           0           0           0   \n",
       "1                0           0           0           0           0   \n",
       "2                0           0           0           0           0   \n",
       "3                0           0           0           0           0   \n",
       "4                0           0           0           0           0   \n",
       "...            ...         ...         ...         ...         ...   \n",
       "165469           0           0           0           0           0   \n",
       "165470           0           0           0           0           0   \n",
       "165471           0           0           0           0           0   \n",
       "165472           0           0           0           0           0   \n",
       "165473           0           0           0           0           0   \n",
       "\n",
       "        country_44  country_45  country_46  country_47  \n",
       "0                0           0           0           0  \n",
       "1                0           0           0           0  \n",
       "2                0           0           0           0  \n",
       "3                0           0           0           0  \n",
       "4                0           0           0           0  \n",
       "...            ...         ...         ...         ...  \n",
       "165469           0           0           0           0  \n",
       "165470           0           0           0           0  \n",
       "165471           0           0           0           0  \n",
       "165472           0           0           0           0  \n",
       "165473           0           0           0           0  \n",
       "\n",
       "[165473 rows x 71 columns]"
      ]
     },
     "execution_count": 15,
     "metadata": {},
     "output_type": "execute_result"
    }
   ],
   "source": [
    "input_data"
   ]
  },
  {
   "cell_type": "markdown",
   "metadata": {},
   "source": [
    "## Feature Selection"
   ]
  },
  {
   "cell_type": "markdown",
   "metadata": {},
   "source": [
    "We are usig chi2 to discover which features are more valuable with respect to price."
   ]
  },
  {
   "cell_type": "code",
   "execution_count": 16,
   "metadata": {},
   "outputs": [
    {
     "name": "stdout",
     "output_type": "stream",
     "text": [
      "Feature 0: 30435.679427\n",
      "Feature 1: 22919.502460\n",
      "Feature 2: 10389.779829\n",
      "Feature 3: 35668.681579\n",
      "Feature 4: 56497.292354\n",
      "Feature 5: 43004.860754\n",
      "Feature 6: 21584.540566\n",
      "Feature 7: 5646.929173\n",
      "Feature 8: 15328.425477\n",
      "Feature 9: 36117.247052\n",
      "Feature 10: 14300.752562\n",
      "Feature 11: 8244.119888\n",
      "Feature 12: 7731.476128\n",
      "Feature 13: 8000.975503\n",
      "Feature 14: 15220.068470\n",
      "Feature 15: 19773.673249\n",
      "Feature 16: 60245.535726\n",
      "Feature 17: 15250.194526\n",
      "Feature 18: 17998.454750\n",
      "Feature 19: 14433.629710\n",
      "Feature 20: 12496.000872\n",
      "Feature 21: 4551.115325\n",
      "Feature 22: 12948.285305\n",
      "Feature 23: 6.532089\n",
      "Feature 24: 24.462928\n",
      "Feature 25: 40.941669\n",
      "Feature 26: 3.883803\n",
      "Feature 27: 5.166184\n",
      "Feature 28: 14.325948\n",
      "Feature 29: 4.425643\n",
      "Feature 30: 40.451152\n",
      "Feature 31: 1154.240475\n",
      "Feature 32: 58.108110\n",
      "Feature 33: 29.717864\n",
      "Feature 34: 23.315058\n",
      "Feature 35: 12.546438\n",
      "Feature 36: 44.173462\n",
      "Feature 37: 18.743855\n",
      "Feature 38: 37.629901\n",
      "Feature 39: 28.203537\n",
      "Feature 40: 8.638033\n",
      "Feature 41: 39.417904\n",
      "Feature 42: 92.812058\n",
      "Feature 43: 91.311495\n",
      "Feature 44: 24.915676\n",
      "Feature 45: 157.570597\n",
      "Feature 46: 95.941602\n",
      "Feature 47: 32.065879\n",
      "Feature 48: 12.668913\n",
      "Feature 49: 46.493671\n",
      "Feature 50: 23.958949\n",
      "Feature 51: 223.434436\n",
      "Feature 52: 10.774623\n",
      "Feature 53: 34.524001\n",
      "Feature 54: 21.515544\n",
      "Feature 55: 4.590185\n",
      "Feature 56: 111.890479\n",
      "Feature 57: 16.922628\n",
      "Feature 58: 76.789432\n",
      "Feature 59: 45.121100\n",
      "Feature 60: 62.491511\n",
      "Feature 61: 59.820945\n",
      "Feature 62: 7.825697\n",
      "Feature 63: 32.092746\n",
      "Feature 64: 49.526938\n",
      "Feature 65: 16.094774\n",
      "Feature 66: 31.711847\n",
      "Feature 67: 28.018632\n",
      "Feature 68: 138.933538\n",
      "Feature 69: 5.402316\n"
     ]
    }
   ],
   "source": [
    "x = input_data.drop(columns = ['price'])\n",
    "y = input_data['price']\n",
    "\n",
    "fs = SelectKBest(score_func = chi2, k ='all')\n",
    "fs.fit(x,y)\n",
    "X_fs = fs.transform(x)\n",
    "\n",
    "for i in range(len(fs.scores_)):\n",
    "    print('Feature %d: %f' % (i, fs.scores_[i]))"
   ]
  },
  {
   "cell_type": "markdown",
   "metadata": {},
   "source": [
    "For Features 23-69, the score decreases significantly. Note that, features 23-69 are the country dummy variables. As a result, we choose to disregard countries in the given problem."
   ]
  },
  {
   "cell_type": "code",
   "execution_count": 17,
   "metadata": {},
   "outputs": [],
   "source": [
    "X_fs = X_fs[:,0:22]"
   ]
  },
  {
   "cell_type": "markdown",
   "metadata": {},
   "source": [
    "## Model\n",
    "<br>We will use ridge linear regression with regularisation. <br>\n",
    "How we proceed:<br>\n",
    "1. Split the sample to two: training_testing and validation sets.\n",
    "2. Define a range of possible regularisation parameters: from -20 to 20 with step 0.5.\n",
    "3. Implement cross validation on the training_testing set: On each iteration calculate the R2 score achieved.\n",
    "4. Calculate the average R2 score per regularisation paramter.\n",
    "5. Feed the data of training_testing set to a new Ridge regression model with the regularisation parameter achieved.\n",
    "6. Calculate the R2 score achived on the validation set."
   ]
  },
  {
   "cell_type": "code",
   "execution_count": 18,
   "metadata": {},
   "outputs": [
    {
     "name": "stdout",
     "output_type": "stream",
     "text": [
      "R2 score of final model: 0.3179533105556034\n"
     ]
    }
   ],
   "source": [
    "from sklearn.model_selection import train_test_split\n",
    "\n",
    "y = np.array(y)\n",
    "X_train_test, X_valid, y_train_test, y_valid = train_test_split(X_fs,y,test_size=0.20,random_state=10)\n",
    "\n",
    "#\n",
    "# y_train_test.reset_index()\n",
    "# y_valid.reset_index()\n",
    "\n",
    "kf = StratifiedKFold(n_splits=10, random_state=0)\n",
    "errors = []\n",
    "\n",
    "scores = {}\n",
    "for i in np.arange(-20,20,0.5):\n",
    "    clf = Ridge(alpha=i)\n",
    "    error_per_reg_param = []\n",
    "    for train_index,test_index in kf.split(X_train_test,y_train_test):\n",
    "        #print(\"TRAIN:\", train_index, \"TEST:\", test_index)\n",
    "        X_train, X_test = X_train_test[train_index], X_train_test[test_index]\n",
    "        y_train, y_test = y_train_test[train_index], y_train_test[test_index]\n",
    "        clf.fit(X_train,y_train)\n",
    "        y_predicted =clf.predict(X_test)\n",
    "        r2 = r2_score(y_test,y_predicted)\n",
    "       # rmse = sqrt(mean_squared_error(y_test, y_predicted))\n",
    "        error_per_reg_param.append(r2)\n",
    "    scores[i] = np.mean(np.array(r2))\n",
    "\n",
    "reg_param = max(scores, key=scores.get)\n",
    "clf = Ridge(alpha=reg_param)\n",
    "clf.fit(X_train_test,y_train_test)\n",
    "y_predicted = clf.predict(X_valid)\n",
    "print('R2 score of final model:', r2_score(y_valid,y_predicted))"
   ]
  }
 ],
 "metadata": {
  "kernelspec": {
   "display_name": "Python 3 (ipykernel)",
   "language": "python",
   "name": "python3"
  },
  "language_info": {
   "codemirror_mode": {
    "name": "ipython",
    "version": 3
   },
   "file_extension": ".py",
   "mimetype": "text/x-python",
   "name": "python",
   "nbconvert_exporter": "python",
   "pygments_lexer": "ipython3",
   "version": "3.8.8"
  }
 },
 "nbformat": 4,
 "nbformat_minor": 2
}
